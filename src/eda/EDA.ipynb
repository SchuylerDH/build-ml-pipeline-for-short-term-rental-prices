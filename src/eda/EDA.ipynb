{
 "cells": [
  {
   "cell_type": "markdown",
   "id": "5a514849",
   "metadata": {},
   "source": [
    "# NYC Airbnb Dataset - Exploratory Data Analysis (EDA)\n",
    "In this notebook, we will perform initial data loading and basic preprocessing on the NYC Airbnb dataset. We will:\n",
    "1. Load the dataset using Weights & Biases (wandb) artifact.\n",
    "2. Clean the dataset by removing outliers.\n",
    "3. Convert relevant columns to appropriate data types for analysis."
   ]
  },
  {
   "cell_type": "code",
   "execution_count": 1,
   "id": "633d0e5c-6c22-46e7-82bb-a6b44aa6af14",
   "metadata": {},
   "outputs": [
    {
     "name": "stderr",
     "output_type": "stream",
     "text": [
      "C:\\Users\\11601109\\Miniconda3\\envs\\mlflow-d9317210abbd7017239d6d442e00ce5323ee074b\\lib\\site-packages\\wandb\\sdk\\launch\\builder\\build.py:11: UserWarning: pkg_resources is deprecated as an API. See https://setuptools.pypa.io/en/latest/pkg_resources.html. The pkg_resources package is slated for removal as early as 2025-11-30. Refrain from using this package or pin to Setuptools<81.\n",
      "  import pkg_resources\n"
     ]
    }
   ],
   "source": [
    "import wandb\n",
    "import pandas as pd"
   ]
  },
  {
   "cell_type": "markdown",
   "id": "7b44650b",
   "metadata": {},
   "source": [
    "## Initialize W&B Run\n",
    "We initialize a Weights & Biases (wandb) run to track this EDA experiment.\n"
   ]
  },
  {
   "cell_type": "code",
   "execution_count": 2,
   "id": "5f8885ce-1c2e-4585-9140-1104035952b8",
   "metadata": {},
   "outputs": [
    {
     "name": "stderr",
     "output_type": "stream",
     "text": [
      "wandb: Currently logged in as: schuyler-helder (schuyler-helder-s). Use `wandb login --relogin` to force relogin\n"
     ]
    },
    {
     "data": {
      "text/html": [
       "wandb version 0.22.2 is available!  To upgrade, please run:\n",
       " $ pip install wandb --upgrade"
      ],
      "text/plain": [
       "<IPython.core.display.HTML object>"
      ]
     },
     "metadata": {},
     "output_type": "display_data"
    },
    {
     "data": {
      "text/html": [
       "Tracking run with wandb version 0.16.0"
      ],
      "text/plain": [
       "<IPython.core.display.HTML object>"
      ]
     },
     "metadata": {},
     "output_type": "display_data"
    },
    {
     "data": {
      "text/html": [
       "Run data is saved locally in <code>C:\\Users\\11601109\\Documents\\GIT\\build-ml-pipeline-for-short-term-rental-prices\\src\\eda\\wandb\\run-20251020_145817-gp174uib</code>"
      ],
      "text/plain": [
       "<IPython.core.display.HTML object>"
      ]
     },
     "metadata": {},
     "output_type": "display_data"
    },
    {
     "data": {
      "text/html": [
       "Syncing run <strong><a href='https://wandb.ai/schuyler-helder-s/nyc_airbnb/runs/gp174uib' target=\"_blank\">revived-surf-2</a></strong> to <a href='https://wandb.ai/schuyler-helder-s/nyc_airbnb' target=\"_blank\">Weights & Biases</a> (<a href='https://wandb.me/run' target=\"_blank\">docs</a>)<br/>"
      ],
      "text/plain": [
       "<IPython.core.display.HTML object>"
      ]
     },
     "metadata": {},
     "output_type": "display_data"
    },
    {
     "data": {
      "text/html": [
       " View project at <a href='https://wandb.ai/schuyler-helder-s/nyc_airbnb' target=\"_blank\">https://wandb.ai/schuyler-helder-s/nyc_airbnb</a>"
      ],
      "text/plain": [
       "<IPython.core.display.HTML object>"
      ]
     },
     "metadata": {},
     "output_type": "display_data"
    },
    {
     "data": {
      "text/html": [
       " View run at <a href='https://wandb.ai/schuyler-helder-s/nyc_airbnb/runs/gp174uib' target=\"_blank\">https://wandb.ai/schuyler-helder-s/nyc_airbnb/runs/gp174uib</a>"
      ],
      "text/plain": [
       "<IPython.core.display.HTML object>"
      ]
     },
     "metadata": {},
     "output_type": "display_data"
    }
   ],
   "source": [
    "run = wandb.init(project=\"nyc_airbnb\", group=\"eda\", save_code=True) "
   ]
  },
  {
   "cell_type": "markdown",
   "id": "9a5c7b37",
   "metadata": {},
   "source": [
    "## Load Dataset\n",
    "We use the latest version of the `sample.csv` artifact stored in W&B.\n"
   ]
  },
  {
   "cell_type": "code",
   "execution_count": 3,
   "id": "17ca661a-792b-4f27-8548-b93da014bc1b",
   "metadata": {},
   "outputs": [],
   "source": [
    "local_path = wandb.use_artifact(\"sample.csv:latest\").file() \n",
    "df = pd.read_csv(local_path)"
   ]
  },
  {
   "cell_type": "markdown",
   "id": "6e2aa36e",
   "metadata": {},
   "source": [
    "## Data Cleaning: Remove Outliers\n",
    "We filter out listings with extreme prices that are likely to be errors or not representative of the typical Airbnb listing.\n"
   ]
  },
  {
   "cell_type": "code",
   "execution_count": 4,
   "id": "ca66fa94-e238-417f-a26e-2eb17f671fe0",
   "metadata": {},
   "outputs": [],
   "source": [
    "# Drop outliers \n",
    "min_price = 10 \n",
    "max_price = 350 \n",
    "idx = df['price'].between(min_price, max_price) \n",
    "df = df[idx].copy()\n",
    "# Convert last_review to datetime \n",
    "df['last_review'] = pd.to_datetime(df['last_review'])"
   ]
  },
  {
   "cell_type": "code",
   "execution_count": 5,
   "id": "3a0e4690-f4fc-44e4-b432-93204129d463",
   "metadata": {},
   "outputs": [
    {
     "name": "stdout",
     "output_type": "stream",
     "text": [
      "<class 'pandas.core.frame.DataFrame'>\n",
      "Index: 19001 entries, 0 to 19999\n",
      "Data columns (total 16 columns):\n",
      " #   Column                          Non-Null Count  Dtype         \n",
      "---  ------                          --------------  -----         \n",
      " 0   id                              19001 non-null  int64         \n",
      " 1   name                            18994 non-null  object        \n",
      " 2   host_id                         19001 non-null  int64         \n",
      " 3   host_name                       18993 non-null  object        \n",
      " 4   neighbourhood_group             19001 non-null  object        \n",
      " 5   neighbourhood                   19001 non-null  object        \n",
      " 6   latitude                        19001 non-null  float64       \n",
      " 7   longitude                       19001 non-null  float64       \n",
      " 8   room_type                       19001 non-null  object        \n",
      " 9   price                           19001 non-null  int64         \n",
      " 10  minimum_nights                  19001 non-null  int64         \n",
      " 11  number_of_reviews               19001 non-null  int64         \n",
      " 12  last_review                     15243 non-null  datetime64[ns]\n",
      " 13  reviews_per_month               15243 non-null  float64       \n",
      " 14  calculated_host_listings_count  19001 non-null  int64         \n",
      " 15  availability_365                19001 non-null  int64         \n",
      "dtypes: datetime64[ns](1), float64(3), int64(7), object(5)\n",
      "memory usage: 2.5+ MB\n"
     ]
    }
   ],
   "source": [
    "df.info()"
   ]
  },
  {
   "cell_type": "markdown",
   "id": "a32ff5c6",
   "metadata": {},
   "source": [
    "## Finish W&B Run\n",
    "We end the wandb run to log all changes and close the experiment.\n"
   ]
  },
  {
   "cell_type": "code",
   "execution_count": 6,
   "id": "da9ff4f8-07bf-4eb4-a243-4f366a740ec1",
   "metadata": {},
   "outputs": [
    {
     "data": {
      "text/html": [
       " View run <strong style=\"color:#cdcd00\">revived-surf-2</strong> at: <a href='https://wandb.ai/schuyler-helder-s/nyc_airbnb/runs/gp174uib' target=\"_blank\">https://wandb.ai/schuyler-helder-s/nyc_airbnb/runs/gp174uib</a><br/> View job at <a href='https://wandb.ai/schuyler-helder-s/nyc_airbnb/jobs/QXJ0aWZhY3RDb2xsZWN0aW9uOjc3MzE0NDkzNg==/version_details/v0' target=\"_blank\">https://wandb.ai/schuyler-helder-s/nyc_airbnb/jobs/QXJ0aWZhY3RDb2xsZWN0aW9uOjc3MzE0NDkzNg==/version_details/v0</a><br/>Synced 7 W&B file(s), 0 media file(s), 6 artifact file(s) and 1 other file(s)"
      ],
      "text/plain": [
       "<IPython.core.display.HTML object>"
      ]
     },
     "metadata": {},
     "output_type": "display_data"
    },
    {
     "data": {
      "text/html": [
       "Find logs at: <code>.\\wandb\\run-20251020_145817-gp174uib\\logs</code>"
      ],
      "text/plain": [
       "<IPython.core.display.HTML object>"
      ]
     },
     "metadata": {},
     "output_type": "display_data"
    }
   ],
   "source": [
    "run.finish()"
   ]
  },
  {
   "cell_type": "code",
   "execution_count": null,
   "id": "730b93f8-9d68-4609-a6e1-033476094e3b",
   "metadata": {},
   "outputs": [],
   "source": []
  }
 ],
 "metadata": {
  "kernelspec": {
   "display_name": "Python 3 (ipykernel)",
   "language": "python",
   "name": "python3"
  },
  "language_info": {
   "codemirror_mode": {
    "name": "ipython",
    "version": 3
   },
   "file_extension": ".py",
   "mimetype": "text/x-python",
   "name": "python",
   "nbconvert_exporter": "python",
   "pygments_lexer": "ipython3",
   "version": "3.10.19"
  }
 },
 "nbformat": 4,
 "nbformat_minor": 5
}
